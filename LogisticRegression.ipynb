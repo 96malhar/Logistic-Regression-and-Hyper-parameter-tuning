{
 "cells": [
  {
   "cell_type": "code",
   "execution_count": 30,
   "metadata": {},
   "outputs": [
    {
     "name": "stdout",
     "output_type": "stream",
     "text": [
      "LogisticRegression(C=1, class_weight=None, dual=False, fit_intercept=True,\n",
      "          intercept_scaling=1, max_iter=100, multi_class='warn',\n",
      "          n_jobs=None, penalty='l2', random_state=None, solver='warn',\n",
      "          tol=0.0001, verbose=0, warm_start=False)\n",
      "0.9936868686868687\n"
     ]
    }
   ],
   "source": [
    "#code source: http://occam.olin.edu/sites/default/files/DataScienceMaterials/machine_learning_lecture_2/Machine%20Learning%20Lecture%202.html\n",
    "from sklearn.model_selection import train_test_split\n",
    "from sklearn.model_selection import GridSearchCV\n",
    "from sklearn.datasets import *\n",
    "from sklearn.linear_model import LogisticRegression\n",
    "import warnings\n",
    "import matplotlib.pyplot as plt\n",
    "warnings.filterwarnings('ignore')\n",
    "\n",
    "\n",
    "\n",
    "data = load_breast_cancer() #refer: http://scikit-learn.org/stable/modules/generated/sklearn.datasets.load_breast_cancer.html#sklearn.datasets.load_breast_cancer\n",
    "\n",
    "tuned_parameters = [{'C': [10**-4, 10**-2, 10**0, 10**2, 10**4]}]\n",
    "X_train, X_test, y_train, y_test = train_test_split(data.data, data.target, train_size=.9)\n",
    "\n",
    "\n",
    "#Using GridSearchCV\n",
    "model = GridSearchCV(LogisticRegression(penalty='l2'), tuned_parameters, scoring = 'roc_auc', cv=5)\n",
    "model.fit(X_train, y_train)\n",
    "\n",
    "\n",
    "\n",
    "print(model.best_estimator_)\n",
    "print(model.score(X_test, y_test))"
   ]
  },
  {
   "cell_type": "code",
   "execution_count": 32,
   "metadata": {},
   "outputs": [
    {
     "data": {
      "text/plain": [
       "{'mean_fit_time': array([0.00213566, 0.00323849, 0.00512896, 0.00710135, 0.00813289]),\n",
       " 'std_fit_time': array([0.00031471, 0.00022252, 0.00025329, 0.00061585, 0.00181998]),\n",
       " 'mean_score_time': array([0.01070375, 0.00102372, 0.00107555, 0.00100188, 0.00100579]),\n",
       " 'std_score_time': array([1.92475611e-02, 3.82782941e-05, 8.58703363e-05, 1.23724312e-05,\n",
       "        1.50476692e-05]),\n",
       " 'param_C': masked_array(data=[0.0001, 0.01, 1, 100, 10000],\n",
       "              mask=[False, False, False, False, False],\n",
       "        fill_value='?',\n",
       "             dtype=object),\n",
       " 'params': [{'C': 0.0001}, {'C': 0.01}, {'C': 1}, {'C': 100}, {'C': 10000}],\n",
       " 'split0_test_score': array([0.97894737, 0.98259109, 0.98259109, 0.98987854, 0.99271255]),\n",
       " 'split1_test_score': array([0.99190283, 0.9951417 , 0.99959514, 0.99838057, 0.99797571]),\n",
       " 'split2_test_score': array([0.94696356, 0.97287449, 0.98623482, 0.97206478, 0.97368421]),\n",
       " 'split3_test_score': array([0.92806653, 0.96548857, 0.98336798, 0.97962578, 0.97962578]),\n",
       " 'split4_test_score': array([0.97550676, 0.99070946, 0.99493243, 0.99619932, 0.99662162]),\n",
       " 'mean_test_score': array([0.96430427, 0.98135555, 0.98933414, 0.98720961, 0.98810738]),\n",
       " 'std_test_score': array([0.02330711, 0.01097391, 0.0067479 , 0.01000396, 0.00971278]),\n",
       " 'rank_test_score': array([5, 4, 1, 3, 2], dtype=int32),\n",
       " 'split0_train_score': array([0.96401544, 0.98764479, 0.99544402, 0.99593308, 0.9971686 ]),\n",
       " 'split1_train_score': array([0.96082368, 0.98203346, 0.99377091, 0.99518662, 0.99693694]),\n",
       " 'split2_train_score': array([0.96972973, 0.98790219, 0.9971686 , 0.99868726, 0.99850708]),\n",
       " 'split3_train_score': array([0.97304968, 0.98562991, 0.99373546, 0.99409343, 0.9937866 ]),\n",
       " 'split4_train_score': array([0.96594498, 0.98400408, 0.99526235, 0.99602649, 0.99653591]),\n",
       " 'mean_train_score': array([0.9667127 , 0.98544288, 0.99507627, 0.99598537, 0.99658702]),\n",
       " 'std_train_score': array([0.00428497, 0.00221927, 0.00126881, 0.00151803, 0.0015487 ])}"
      ]
     },
     "execution_count": 32,
     "metadata": {},
     "output_type": "execute_result"
    }
   ],
   "source": [
    "model.cv_results_"
   ]
  },
  {
   "cell_type": "code",
   "execution_count": 33,
   "metadata": {},
   "outputs": [],
   "source": [
    "params = tuned_parameters[0]['C']\n",
    "test_scores = model.cv_results_['mean_test_score']\n",
    "train_scores = model.cv_results_['mean_train_score']"
   ]
  },
  {
   "cell_type": "code",
   "execution_count": 35,
   "metadata": {},
   "outputs": [
    {
     "data": {
      "image/png": "[encoded data removed]",
      "text/plain": [
       "<Figure size 864x432 with 1 Axes>"
      ]
     },
     "metadata": {
      "needs_background": "light"
     },
     "output_type": "display_data"
    }
   ],
   "source": [
    "plt.figure(figsize=(12,6))\n",
    "plt.plot(params, test_scores, '-o', label='Test Scores')\n",
    "plt.plot(params, train_scores, '-o', label='Train Scores')\n",
    "plt.xticks(params)\n",
    "plt.xlabel('C values', fontsize=13)\n",
    "plt.ylabel('AUC Scores', fontsize=13)\n",
    "plt.title('Hyperparameter v/s AUC Score', fontsize=16)\n",
    "plt.grid('on')\n",
    "\n",
    "plt.legend(loc='best', fontsize=12)\n",
    "plt.show()"
   ]
  },
  {
   "cell_type": "code",
   "execution_count": 36,
   "metadata": {},
   "outputs": [
    {
     "data": {
      "text/plain": [
       "array([[ 1.73139121,  0.08268027, -0.0516868 ,  0.00256713, -0.1263932 ,\n",
       "        -0.29994283, -0.53908729, -0.26710596, -0.18225064, -0.01688041,\n",
       "         0.050223  ,  1.25393833,  0.49383121, -0.1282114 , -0.01361649,\n",
       "         0.02096006, -0.04470373, -0.03227352, -0.01690861,  0.00782121,\n",
       "         1.54770075, -0.31862834, -0.13822649, -0.02755142, -0.23585585,\n",
       "        -0.94303847, -1.38769738, -0.538084  , -0.48906989, -0.09046976]])"
      ]
     },
     "execution_count": 36,
     "metadata": {},
     "output_type": "execute_result"
    }
   ],
   "source": [
    "model.best_estimator_.coef_"
   ]
  },
  {
   "cell_type": "code",
   "execution_count": null,
   "metadata": {},
   "outputs": [],
   "source": []
  },
  {
   "cell_type": "code",
   "execution_count": 2,
   "metadata": {},
   "outputs": [
    {
     "data": {
      "text/plain": [
       "array([0, 1])"
      ]
     },
     "execution_count": 2,
     "metadata": {},
     "output_type": "execute_result"
    }
   ],
   "source": [
    "model.best_estimator_.classes_"
   ]
  },
  {
   "cell_type": "code",
   "execution_count": 12,
   "metadata": {},
   "outputs": [
    {
     "name": "stdout",
     "output_type": "stream",
     "text": [
      "7\n",
      "76.66666666666667\n"
     ]
    }
   ],
   "source": [
    "# More Sparsity (Fewer elements of W* being non-zero) by increasing Lambda (decreasing C) \n",
    "\n",
    "import numpy as np\n",
    "\n",
    "clf = LogisticRegression(C=0.1, penalty='l1');\n",
    "clf.fit(X_train, y_train);\n",
    "w = clf.coef_\n",
    "print(np.count_nonzero(w))\n",
    "sparsity = ((w==0).sum()/w.shape[1]) * 100\n",
    "print(sparsity)\n"
   ]
  },
  {
   "cell_type": "code",
   "execution_count": 17,
   "metadata": {},
   "outputs": [
    {
     "name": "stdout",
     "output_type": "stream",
     "text": [
      "5\n",
      "25\n"
     ]
    }
   ],
   "source": [
    "clf = LogisticRegression(C=0.01, penalty='l1');\n",
    "clf.fit(X_train, y_train);\n",
    "w = clf.coef_\n",
    "print(np.count_nonzero(w))\n",
    "print((w==0).sum())"
   ]
  },
  {
   "cell_type": "code",
   "execution_count": 25,
   "metadata": {},
   "outputs": [
    {
     "name": "stdout",
     "output_type": "stream",
     "text": [
      "3\n",
      "27\n"
     ]
    }
   ],
   "source": [
    "clf = LogisticRegression(C=0.001, penalty='l1');\n",
    "clf.fit(X_train, y_train);\n",
    "w = clf.coef_\n",
    "print(np.count_nonzero(w))\n",
    "print((w==0).sum())"
   ]
  },
  {
   "cell_type": "code",
   "execution_count": 23,
   "metadata": {},
   "outputs": [
    {
     "name": "stdout",
     "output_type": "stream",
     "text": [
      "16\n",
      "14\n"
     ]
    }
   ],
   "source": [
    "clf = LogisticRegression(C=10, penalty='l1');\n",
    "clf.fit(X_train, y_train);\n",
    "w = clf.coef_\n",
    "print(np.count_nonzero(w))\n",
    "print((w==0).sum())"
   ]
  },
  {
   "cell_type": "code",
   "execution_count": null,
   "metadata": {
    "collapsed": true
   },
   "outputs": [],
   "source": []
  }
 ],
 "metadata": {
  "kernelspec": {
   "display_name": "Python 3",
   "language": "python",
   "name": "python3"
  },
  "language_info": {
   "codemirror_mode": {
    "name": "ipython",
    "version": 3
   },
   "file_extension": ".py",
   "mimetype": "text/x-python",
   "name": "python",
   "nbconvert_exporter": "python",
   "pygments_lexer": "ipython3",
   "version": "3.6.8"
  }
 },
 "nbformat": 4,
 "nbformat_minor": 2
}
